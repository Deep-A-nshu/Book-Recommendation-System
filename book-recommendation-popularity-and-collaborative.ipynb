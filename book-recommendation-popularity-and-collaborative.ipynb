{
 "cells": [
  {
   "cell_type": "markdown",
   "id": "957c53aa",
   "metadata": {
    "papermill": {
     "duration": 0.0135,
     "end_time": "2023-07-16T18:02:22.343352",
     "exception": false,
     "start_time": "2023-07-16T18:02:22.329852",
     "status": "completed"
    },
    "tags": []
   },
   "source": [
    "# Introduction #\n",
    "\n",
    "We will explore two widely used methods for developing recommendation systems: Popularity-based Recommendation and Collaborative Filtering Recommendation. These techniques enable us to deliver personalized book suggestions to users based on their individual interests and preferences.\n",
    "\n",
    "## Popularity-based Recommendation \n",
    "\n",
    "Popularity-based Recommendation is a straightforward yet effective approach that recommends books based on their overall popularity or popularity within a specific user group. It suggests books that have garnered high ratings or have been frequently purchased or read by a large number of users. This method is suitable when providing general recommendations to a broad audience.\n",
    "\n",
    "## Collaborative Filtering Recommendation\n",
    "\n",
    "Collaborative Filtering Recommendation is a more sophisticated technique that taps into the collective knowledge of a community of users. It identifies similarities in user behavior and preferences to generate personalized recommendations. Collaborative Filtering seeks patterns among users who share similar tastes, suggesting books that have been liked or highly rated by users with comparable interests to the target user.\n",
    "\n",
    "In this notebook, we will implement both Popularity-based Recommendation and Collaborative Filtering Recommendation techniques to offer a diverse and tailored set of book recommendations."
   ]
  },
  {
   "cell_type": "code",
   "execution_count": 42,
   "id": "4dfc614c",
   "metadata": {
    "execution": {
     "iopub.execute_input": "2023-07-16T18:02:22.370159Z",
     "iopub.status.busy": "2023-07-16T18:02:22.369590Z",
     "iopub.status.idle": "2023-07-16T18:02:22.377007Z",
     "shell.execute_reply": "2023-07-16T18:02:22.376425Z"
    },
    "papermill": {
     "duration": 0.023086,
     "end_time": "2023-07-16T18:02:22.378481",
     "exception": false,
     "start_time": "2023-07-16T18:02:22.355395",
     "status": "completed"
    },
    "tags": []
   },
   "outputs": [],
   "source": [
    "#importing libraries\n",
    "import pandas as pd\n",
    "import numpy as np\n",
    "import matplotlib.pyplot as plt"
   ]
  },
  {
   "cell_type": "code",
   "execution_count": 43,
   "id": "1490b170",
   "metadata": {
    "execution": {
     "iopub.execute_input": "2023-07-16T18:02:22.404089Z",
     "iopub.status.busy": "2023-07-16T18:02:22.403548Z",
     "iopub.status.idle": "2023-07-16T18:02:25.233236Z",
     "shell.execute_reply": "2023-07-16T18:02:25.232443Z"
    },
    "papermill": {
     "duration": 2.844772,
     "end_time": "2023-07-16T18:02:25.235384",
     "exception": false,
     "start_time": "2023-07-16T18:02:22.390612",
     "status": "completed"
    },
    "tags": []
   },
   "outputs": [
    {
     "name": "stderr",
     "output_type": "stream",
     "text": [
      "c:\\Users\\hp\\AppData\\Local\\Programs\\Python\\Python37\\lib\\site-packages\\IPython\\core\\interactiveshell.py:3553: DtypeWarning: Columns (3) have mixed types.Specify dtype option on import or set low_memory=False.\n",
      "  exec(code_obj, self.user_global_ns, self.user_ns)\n"
     ]
    }
   ],
   "source": [
    "#reading datasets\n",
    "books=pd.read_csv('./input/Books.csv')\n",
    "ratings=pd.read_csv('./input/Ratings.csv')\n",
    "users=pd.read_csv('./input/Users.csv')"
   ]
  },
  {
   "cell_type": "markdown",
   "id": "e58c3065",
   "metadata": {
    "papermill": {
     "duration": 0.011634,
     "end_time": "2023-07-16T18:02:25.259385",
     "exception": false,
     "start_time": "2023-07-16T18:02:25.247751",
     "status": "completed"
    },
    "tags": []
   },
   "source": [
    "Understanding **books** dataset"
   ]
  },
  {
   "cell_type": "code",
   "execution_count": 44,
   "id": "5af262e5",
   "metadata": {
    "execution": {
     "iopub.execute_input": "2023-07-16T18:02:25.284562Z",
     "iopub.status.busy": "2023-07-16T18:02:25.284258Z",
     "iopub.status.idle": "2023-07-16T18:02:25.300770Z",
     "shell.execute_reply": "2023-07-16T18:02:25.299961Z"
    },
    "papermill": {
     "duration": 0.031277,
     "end_time": "2023-07-16T18:02:25.302486",
     "exception": false,
     "start_time": "2023-07-16T18:02:25.271209",
     "status": "completed"
    },
    "tags": []
   },
   "outputs": [
    {
     "data": {
      "text/html": [
       "<div>\n",
       "<style scoped>\n",
       "    .dataframe tbody tr th:only-of-type {\n",
       "        vertical-align: middle;\n",
       "    }\n",
       "\n",
       "    .dataframe tbody tr th {\n",
       "        vertical-align: top;\n",
       "    }\n",
       "\n",
       "    .dataframe thead th {\n",
       "        text-align: right;\n",
       "    }\n",
       "</style>\n",
       "<table border=\"1\" class=\"dataframe\">\n",
       "  <thead>\n",
       "    <tr style=\"text-align: right;\">\n",
       "      <th></th>\n",
       "      <th>ISBN</th>\n",
       "      <th>Book-Title</th>\n",
       "      <th>Book-Author</th>\n",
       "      <th>Year-Of-Publication</th>\n",
       "      <th>Publisher</th>\n",
       "      <th>Image-URL-S</th>\n",
       "      <th>Image-URL-M</th>\n",
       "      <th>Image-URL-L</th>\n",
       "    </tr>\n",
       "  </thead>\n",
       "  <tbody>\n",
       "    <tr>\n",
       "      <th>0</th>\n",
       "      <td>0195153448</td>\n",
       "      <td>Classical Mythology</td>\n",
       "      <td>Mark P. O. Morford</td>\n",
       "      <td>2002</td>\n",
       "      <td>Oxford University Press</td>\n",
       "      <td>http://images.amazon.com/images/P/0195153448.0...</td>\n",
       "      <td>http://images.amazon.com/images/P/0195153448.0...</td>\n",
       "      <td>http://images.amazon.com/images/P/0195153448.0...</td>\n",
       "    </tr>\n",
       "    <tr>\n",
       "      <th>1</th>\n",
       "      <td>0002005018</td>\n",
       "      <td>Clara Callan</td>\n",
       "      <td>Richard Bruce Wright</td>\n",
       "      <td>2001</td>\n",
       "      <td>HarperFlamingo Canada</td>\n",
       "      <td>http://images.amazon.com/images/P/0002005018.0...</td>\n",
       "      <td>http://images.amazon.com/images/P/0002005018.0...</td>\n",
       "      <td>http://images.amazon.com/images/P/0002005018.0...</td>\n",
       "    </tr>\n",
       "  </tbody>\n",
       "</table>\n",
       "</div>"
      ],
      "text/plain": [
       "         ISBN           Book-Title           Book-Author Year-Of-Publication  \\\n",
       "0  0195153448  Classical Mythology    Mark P. O. Morford                2002   \n",
       "1  0002005018         Clara Callan  Richard Bruce Wright                2001   \n",
       "\n",
       "                 Publisher                                        Image-URL-S  \\\n",
       "0  Oxford University Press  http://images.amazon.com/images/P/0195153448.0...   \n",
       "1    HarperFlamingo Canada  http://images.amazon.com/images/P/0002005018.0...   \n",
       "\n",
       "                                         Image-URL-M  \\\n",
       "0  http://images.amazon.com/images/P/0195153448.0...   \n",
       "1  http://images.amazon.com/images/P/0002005018.0...   \n",
       "\n",
       "                                         Image-URL-L  \n",
       "0  http://images.amazon.com/images/P/0195153448.0...  \n",
       "1  http://images.amazon.com/images/P/0002005018.0...  "
      ]
     },
     "execution_count": 44,
     "metadata": {},
     "output_type": "execute_result"
    }
   ],
   "source": [
    "books.head(2)"
   ]
  },
  {
   "cell_type": "code",
   "execution_count": 45,
   "id": "d2a7a49f",
   "metadata": {
    "execution": {
     "iopub.execute_input": "2023-07-16T18:02:25.331578Z",
     "iopub.status.busy": "2023-07-16T18:02:25.330723Z",
     "iopub.status.idle": "2023-07-16T18:02:25.337425Z",
     "shell.execute_reply": "2023-07-16T18:02:25.336512Z"
    },
    "papermill": {
     "duration": 0.024468,
     "end_time": "2023-07-16T18:02:25.339426",
     "exception": false,
     "start_time": "2023-07-16T18:02:25.314958",
     "status": "completed"
    },
    "tags": []
   },
   "outputs": [
    {
     "data": {
      "text/plain": [
       "Index(['ISBN', 'Book-Title', 'Book-Author', 'Year-Of-Publication', 'Publisher',\n",
       "       'Image-URL-S', 'Image-URL-M', 'Image-URL-L'],\n",
       "      dtype='object')"
      ]
     },
     "execution_count": 45,
     "metadata": {},
     "output_type": "execute_result"
    }
   ],
   "source": [
    "books.columns"
   ]
  },
  {
   "cell_type": "code",
   "execution_count": null,
   "id": "62a9774a",
   "metadata": {},
   "outputs": [],
   "source": [
    "books.info()"
   ]
  },
  {
   "cell_type": "code",
   "execution_count": 46,
   "id": "b990cfd0",
   "metadata": {
    "execution": {
     "iopub.execute_input": "2023-07-16T18:02:25.395365Z",
     "iopub.status.busy": "2023-07-16T18:02:25.394322Z",
     "iopub.status.idle": "2023-07-16T18:02:25.403918Z",
     "shell.execute_reply": "2023-07-16T18:02:25.403140Z"
    },
    "papermill": {
     "duration": 0.02613,
     "end_time": "2023-07-16T18:02:25.405494",
     "exception": false,
     "start_time": "2023-07-16T18:02:25.379364",
     "status": "completed"
    },
    "tags": []
   },
   "outputs": [
    {
     "data": {
      "text/html": [
       "<div>\n",
       "<style scoped>\n",
       "    .dataframe tbody tr th:only-of-type {\n",
       "        vertical-align: middle;\n",
       "    }\n",
       "\n",
       "    .dataframe tbody tr th {\n",
       "        vertical-align: top;\n",
       "    }\n",
       "\n",
       "    .dataframe thead th {\n",
       "        text-align: right;\n",
       "    }\n",
       "</style>\n",
       "<table border=\"1\" class=\"dataframe\">\n",
       "  <thead>\n",
       "    <tr style=\"text-align: right;\">\n",
       "      <th></th>\n",
       "      <th>User-ID</th>\n",
       "      <th>ISBN</th>\n",
       "      <th>Book-Rating</th>\n",
       "    </tr>\n",
       "  </thead>\n",
       "  <tbody>\n",
       "    <tr>\n",
       "      <th>0</th>\n",
       "      <td>276725</td>\n",
       "      <td>034545104X</td>\n",
       "      <td>0</td>\n",
       "    </tr>\n",
       "    <tr>\n",
       "      <th>1</th>\n",
       "      <td>276726</td>\n",
       "      <td>0155061224</td>\n",
       "      <td>5</td>\n",
       "    </tr>\n",
       "  </tbody>\n",
       "</table>\n",
       "</div>"
      ],
      "text/plain": [
       "   User-ID        ISBN  Book-Rating\n",
       "0   276725  034545104X            0\n",
       "1   276726  0155061224            5"
      ]
     },
     "execution_count": 46,
     "metadata": {},
     "output_type": "execute_result"
    }
   ],
   "source": [
    "ratings.head(2)"
   ]
  },
  {
   "cell_type": "code",
   "execution_count": 82,
   "id": "a471dad9",
   "metadata": {},
   "outputs": [
    {
     "name": "stdout",
     "output_type": "stream",
     "text": [
      "<class 'pandas.core.frame.DataFrame'>\n",
      "RangeIndex: 1149780 entries, 0 to 1149779\n",
      "Data columns (total 3 columns):\n",
      " #   Column       Non-Null Count    Dtype \n",
      "---  ------       --------------    ----- \n",
      " 0   User-ID      1149780 non-null  int64 \n",
      " 1   ISBN         1149780 non-null  object\n",
      " 2   Book-Rating  1149780 non-null  int64 \n",
      "dtypes: int64(2), object(1)\n",
      "memory usage: 26.3+ MB\n"
     ]
    }
   ],
   "source": [
    "ratings.info()"
   ]
  },
  {
   "cell_type": "code",
   "execution_count": 47,
   "id": "6ed89310",
   "metadata": {
    "execution": {
     "iopub.execute_input": "2023-07-16T18:02:25.466504Z",
     "iopub.status.busy": "2023-07-16T18:02:25.465973Z",
     "iopub.status.idle": "2023-07-16T18:02:25.474252Z",
     "shell.execute_reply": "2023-07-16T18:02:25.473416Z"
    },
    "papermill": {
     "duration": 0.023244,
     "end_time": "2023-07-16T18:02:25.475873",
     "exception": false,
     "start_time": "2023-07-16T18:02:25.452629",
     "status": "completed"
    },
    "tags": []
   },
   "outputs": [
    {
     "data": {
      "text/html": [
       "<div>\n",
       "<style scoped>\n",
       "    .dataframe tbody tr th:only-of-type {\n",
       "        vertical-align: middle;\n",
       "    }\n",
       "\n",
       "    .dataframe tbody tr th {\n",
       "        vertical-align: top;\n",
       "    }\n",
       "\n",
       "    .dataframe thead th {\n",
       "        text-align: right;\n",
       "    }\n",
       "</style>\n",
       "<table border=\"1\" class=\"dataframe\">\n",
       "  <thead>\n",
       "    <tr style=\"text-align: right;\">\n",
       "      <th></th>\n",
       "      <th>User-ID</th>\n",
       "      <th>Location</th>\n",
       "      <th>Age</th>\n",
       "    </tr>\n",
       "  </thead>\n",
       "  <tbody>\n",
       "    <tr>\n",
       "      <th>0</th>\n",
       "      <td>1</td>\n",
       "      <td>nyc, new york, usa</td>\n",
       "      <td>NaN</td>\n",
       "    </tr>\n",
       "    <tr>\n",
       "      <th>1</th>\n",
       "      <td>2</td>\n",
       "      <td>stockton, california, usa</td>\n",
       "      <td>18.0</td>\n",
       "    </tr>\n",
       "  </tbody>\n",
       "</table>\n",
       "</div>"
      ],
      "text/plain": [
       "   User-ID                   Location   Age\n",
       "0        1         nyc, new york, usa   NaN\n",
       "1        2  stockton, california, usa  18.0"
      ]
     },
     "execution_count": 47,
     "metadata": {},
     "output_type": "execute_result"
    }
   ],
   "source": [
    "users.head(2)"
   ]
  },
  {
   "cell_type": "code",
   "execution_count": 83,
   "id": "363f398e",
   "metadata": {},
   "outputs": [
    {
     "name": "stdout",
     "output_type": "stream",
     "text": [
      "<class 'pandas.core.frame.DataFrame'>\n",
      "RangeIndex: 278858 entries, 0 to 278857\n",
      "Data columns (total 3 columns):\n",
      " #   Column    Non-Null Count   Dtype  \n",
      "---  ------    --------------   -----  \n",
      " 0   User-ID   278858 non-null  int64  \n",
      " 1   Location  278858 non-null  object \n",
      " 2   Age       168096 non-null  float64\n",
      "dtypes: float64(1), int64(1), object(1)\n",
      "memory usage: 6.4+ MB\n"
     ]
    }
   ],
   "source": [
    "users.info()"
   ]
  },
  {
   "cell_type": "code",
   "execution_count": 48,
   "id": "ad684a0a",
   "metadata": {
    "execution": {
     "iopub.execute_input": "2023-07-16T18:02:25.527200Z",
     "iopub.status.busy": "2023-07-16T18:02:25.526548Z",
     "iopub.status.idle": "2023-07-16T18:02:26.034046Z",
     "shell.execute_reply": "2023-07-16T18:02:26.033038Z"
    },
    "papermill": {
     "duration": 0.523066,
     "end_time": "2023-07-16T18:02:26.036213",
     "exception": false,
     "start_time": "2023-07-16T18:02:25.513147",
     "status": "completed"
    },
    "tags": []
   },
   "outputs": [
    {
     "name": "stdout",
     "output_type": "stream",
     "text": [
      "\n",
      "Shape of 'books' DataFrame: (271360, 8)\n",
      "Missing values in 'books' DataFrame:\n",
      "ISBN                   0\n",
      "Book-Title             0\n",
      "Book-Author            1\n",
      "Year-Of-Publication    0\n",
      "Publisher              2\n",
      "Image-URL-S            0\n",
      "Image-URL-M            0\n",
      "Image-URL-L            3\n",
      "dtype: int64\n",
      "\n",
      "Shape of 'ratings' DataFrame: (1149780, 3)\n",
      "\n",
      "Missing values in 'ratings' DataFrame:\n",
      "User-ID        0\n",
      "ISBN           0\n",
      "Book-Rating    0\n",
      "dtype: int64\n",
      "\n",
      "Shape of 'users' DataFrame: (278858, 3)\n",
      "\n",
      "Missing values in 'users' DataFrame:\n",
      "User-ID          0\n",
      "Location         0\n",
      "Age         110762\n",
      "dtype: int64\n"
     ]
    }
   ],
   "source": [
    "# Check size and missing values of 'books' DataFrame\n",
    "print(\"\\nShape of 'books' DataFrame:\", books.shape)\n",
    "print(\"Missing values in 'books' DataFrame:\")\n",
    "print(books.isnull().sum())\n",
    "\n",
    "# Check shape and missing values of 'ratings' DataFrame\n",
    "print(\"\\nShape of 'ratings' DataFrame:\", ratings.shape)\n",
    "print(\"\\nMissing values in 'ratings' DataFrame:\")\n",
    "print(ratings.isnull().sum())\n",
    "\n",
    "\n",
    "# Check  shape and missing values of 'users' DataFrame\n",
    "print(\"\\nShape of 'users' DataFrame:\", users.shape)\n",
    "print(\"\\nMissing values in 'users' DataFrame:\")\n",
    "print(users.isnull().sum())\n"
   ]
  },
  {
   "cell_type": "markdown",
   "id": "57abf717",
   "metadata": {
    "papermill": {
     "duration": 0.012209,
     "end_time": "2023-07-16T18:02:26.061574",
     "exception": false,
     "start_time": "2023-07-16T18:02:26.049365",
     "status": "completed"
    },
    "tags": []
   },
   "source": [
    "As observed, the \"age\" column contains numerous missing values. However, since age doesn't carry significant weight in our recommendation system, and ratings are the primary feature for our recommendations, we are considering the removal of the \"age\" column."
   ]
  },
  {
   "cell_type": "code",
   "execution_count": 49,
   "id": "a286e6f3",
   "metadata": {
    "execution": {
     "iopub.execute_input": "2023-07-16T18:02:26.088072Z",
     "iopub.status.busy": "2023-07-16T18:02:26.087760Z",
     "iopub.status.idle": "2023-07-16T18:02:26.820811Z",
     "shell.execute_reply": "2023-07-16T18:02:26.819877Z"
    },
    "papermill": {
     "duration": 0.748805,
     "end_time": "2023-07-16T18:02:26.822847",
     "exception": false,
     "start_time": "2023-07-16T18:02:26.074042",
     "status": "completed"
    },
    "tags": []
   },
   "outputs": [
    {
     "name": "stdout",
     "output_type": "stream",
     "text": [
      "Duplicated rows count in 'books' DataFrame: 0\n",
      "Duplicated rows count in 'ratings' DataFrame: 0\n",
      "Duplicated rows count in 'users' DataFrame: 0\n"
     ]
    }
   ],
   "source": [
    "# Count duplicated rows in 'books' DataFrame\n",
    "books_duplicates_count = books.duplicated().sum()\n",
    "print(\"Duplicated rows count in 'books' DataFrame:\", books_duplicates_count)\n",
    "\n",
    "# Count duplicated rows in 'ratings' DataFrame\n",
    "ratings_duplicates_count = ratings.duplicated().sum()\n",
    "print(\"Duplicated rows count in 'ratings' DataFrame:\", ratings_duplicates_count)\n",
    "\n",
    "# Count duplicated rows in 'users' DataFrame\n",
    "users_duplicates_count = users.duplicated().sum()\n",
    "print(\"Duplicated rows count in 'users' DataFrame:\", users_duplicates_count)"
   ]
  },
  {
   "cell_type": "markdown",
   "id": "746ac926",
   "metadata": {
    "papermill": {
     "duration": 0.01233,
     "end_time": "2023-07-16T18:02:26.847964",
     "exception": false,
     "start_time": "2023-07-16T18:02:26.835634",
     "status": "completed"
    },
    "tags": []
   },
   "source": [
    "# EDA \n",
    "Extensive Data analysis"
   ]
  },
  {
   "cell_type": "markdown",
   "id": "aab46313",
   "metadata": {
    "papermill": {
     "duration": 0.012186,
     "end_time": "2023-07-16T18:02:26.872665",
     "exception": false,
     "start_time": "2023-07-16T18:02:26.860479",
     "status": "completed"
    },
    "tags": []
   },
   "source": [
    "### Top 10 publishers with the most books ###"
   ]
  },
  {
   "cell_type": "code",
   "execution_count": 50,
   "id": "185921bd",
   "metadata": {
    "execution": {
     "iopub.execute_input": "2023-07-16T18:02:26.899030Z",
     "iopub.status.busy": "2023-07-16T18:02:26.898465Z",
     "iopub.status.idle": "2023-07-16T18:02:27.195955Z",
     "shell.execute_reply": "2023-07-16T18:02:27.195279Z"
    },
    "papermill": {
     "duration": 0.31244,
     "end_time": "2023-07-16T18:02:27.197418",
     "exception": false,
     "start_time": "2023-07-16T18:02:26.884978",
     "status": "completed"
    },
    "tags": []
   },
   "outputs": [
    {
     "data": {
      "image/png": "[encoded data removed]",
      "text/plain": [
       "<Figure size 1000x600 with 1 Axes>"
      ]
     },
     "metadata": {},
     "output_type": "display_data"
    }
   ],
   "source": [
    "\n",
    "top_publishers = books['Publisher'].value_counts().head(10)\n",
    "\n",
    "# Create a bar chart\n",
    "plt.figure(figsize=(10, 6))\n",
    "top_publishers.plot(kind='bar')\n",
    "plt.title('Top 10 Publishers with the Most Books')\n",
    "plt.xlabel('Publisher')\n",
    "plt.ylabel('Number of Books')\n",
    "plt.xticks(rotation=45)\n",
    "plt.show()\n"
   ]
  },
  {
   "cell_type": "markdown",
   "id": "3113dbeb",
   "metadata": {
    "papermill": {
     "duration": 0.012783,
     "end_time": "2023-07-16T18:02:27.223563",
     "exception": false,
     "start_time": "2023-07-16T18:02:27.210780",
     "status": "completed"
    },
    "tags": []
   },
   "source": [
    "### Top 10 Authors with the most books ###"
   ]
  },
  {
   "cell_type": "code",
   "execution_count": 51,
   "id": "da61fb91",
   "metadata": {
    "execution": {
     "iopub.execute_input": "2023-07-16T18:02:27.250668Z",
     "iopub.status.busy": "2023-07-16T18:02:27.250160Z",
     "iopub.status.idle": "2023-07-16T18:02:27.535804Z",
     "shell.execute_reply": "2023-07-16T18:02:27.534653Z"
    },
    "papermill": {
     "duration": 0.30115,
     "end_time": "2023-07-16T18:02:27.537433",
     "exception": false,
     "start_time": "2023-07-16T18:02:27.236283",
     "status": "completed"
    },
    "tags": []
   },
   "outputs": [
    {
     "data": {
      "image/png": "[encoded data removed]",
      "text/plain": [
       "<Figure size 1000x600 with 1 Axes>"
      ]
     },
     "metadata": {},
     "output_type": "display_data"
    }
   ],
   "source": [
    "# top 10 Authors with the most books\n",
    "top_authors = books['Book-Author'].value_counts().head(10)\n",
    "\n",
    "# Create a bar chart\n",
    "plt.figure(figsize=(10, 6))\n",
    "top_authors.plot(kind='bar')\n",
    "plt.title('Top 10 Authors with the Most Books')\n",
    "plt.xlabel('Author')\n",
    "plt.ylabel('Number of Books')\n",
    "plt.xticks(rotation=45)\n",
    "plt.show()"
   ]
  },
  {
   "cell_type": "markdown",
   "id": "80df305e",
   "metadata": {
    "papermill": {
     "duration": 0.014298,
     "end_time": "2023-07-16T18:02:27.565480",
     "exception": false,
     "start_time": "2023-07-16T18:02:27.551182",
     "status": "completed"
    },
    "tags": []
   },
   "source": [
    "### Top 10 years when most books got published ###"
   ]
  },
  {
   "cell_type": "code",
   "execution_count": 52,
   "id": "9af7101a",
   "metadata": {
    "execution": {
     "iopub.execute_input": "2023-07-16T18:02:27.593713Z",
     "iopub.status.busy": "2023-07-16T18:02:27.593400Z",
     "iopub.status.idle": "2023-07-16T18:02:27.861286Z",
     "shell.execute_reply": "2023-07-16T18:02:27.860439Z"
    },
    "papermill": {
     "duration": 0.284138,
     "end_time": "2023-07-16T18:02:27.863050",
     "exception": false,
     "start_time": "2023-07-16T18:02:27.578912",
     "status": "completed"
    },
    "tags": []
   },
   "outputs": [
    {
     "data": {
      "image/png": "[encoded data removed]",
      "text/plain": [
       "<Figure size 1000x600 with 1 Axes>"
      ]
     },
     "metadata": {},
     "output_type": "display_data"
    }
   ],
   "source": [
    "# Group the data by Year-Of-Publication and count the number of books in each year\n",
    "year_counts = books['Year-Of-Publication'].value_counts().sort_values(ascending=False)\n",
    "\n",
    "\n",
    "# Top 10 years with the most books published\n",
    "top_10_years = year_counts.head(10)\n",
    "\n",
    "# Convert years to integers\n",
    "top_10_years.index = top_10_years.index.astype(int)\n",
    "\n",
    "# Create a bar chart\n",
    "plt.figure(figsize=(10, 6))\n",
    "top_10_years.plot(kind='bar')\n",
    "plt.title('Number of Books Published by Year')\n",
    "plt.xlabel('Year of Publication')\n",
    "plt.ylabel('Number of Books')\n",
    "\n",
    "plt.xticks(rotation=45)\n",
    "plt.tight_layout()\n",
    "\n",
    "plt.show()\n",
    "\n"
   ]
  },
  {
   "cell_type": "markdown",
   "id": "37f6d55b",
   "metadata": {
    "papermill": {
     "duration": 0.013996,
     "end_time": "2023-07-16T18:02:27.891406",
     "exception": false,
     "start_time": "2023-07-16T18:02:27.877410",
     "status": "completed"
    },
    "tags": []
   },
   "source": [
    "### Top 10 popular books ###"
   ]
  },
  {
   "cell_type": "code",
   "execution_count": 53,
   "id": "237ad36a",
   "metadata": {
    "execution": {
     "iopub.execute_input": "2023-07-16T18:02:27.921160Z",
     "iopub.status.busy": "2023-07-16T18:02:27.920865Z",
     "iopub.status.idle": "2023-07-16T18:02:29.097538Z",
     "shell.execute_reply": "2023-07-16T18:02:29.096841Z"
    },
    "papermill": {
     "duration": 1.193496,
     "end_time": "2023-07-16T18:02:29.099114",
     "exception": false,
     "start_time": "2023-07-16T18:02:27.905618",
     "status": "completed"
    },
    "tags": []
   },
   "outputs": [
    {
     "data": {
      "image/png": "[encoded data removed]",
      "text/plain": [
       "<Figure size 1000x600 with 1 Axes>"
      ]
     },
     "metadata": {},
     "output_type": "display_data"
    }
   ],
   "source": [
    "#Top 10 popular books\n",
    "# Merge the books and ratings dataframes on the common ISBN column\n",
    "merged_df = pd.merge(books, ratings, on='ISBN')\n",
    "\n",
    "# Calculate the count of ratings for each book\n",
    "book_ratings_count = merged_df['ISBN'].value_counts().head(10)\n",
    "\n",
    "# Get the top 10 popular books based on ratings count\n",
    "top_10_popular_books = books[books['ISBN'].isin(book_ratings_count.index)]\n",
    "\n",
    "# Create a bar chart to visualize the top 10 popular books\n",
    "plt.figure(figsize=(10, 6))\n",
    "plt.bar(top_10_popular_books['Book-Title'], book_ratings_count)\n",
    "plt.title('Top 10 Popular Books')\n",
    "plt.xlabel('Book Title')\n",
    "plt.ylabel('Number of Ratings')\n",
    "plt.xticks(rotation=45, ha='right')\n",
    "plt.tight_layout()\n",
    "plt.show()\n",
    "\n"
   ]
  },
  {
   "cell_type": "markdown",
   "id": "c3f1120a",
   "metadata": {
    "papermill": {
     "duration": 0.014346,
     "end_time": "2023-07-16T18:02:29.128347",
     "exception": false,
     "start_time": "2023-07-16T18:02:29.114001",
     "status": "completed"
    },
    "tags": []
   },
   "source": [
    "# Popularity based recommendation"
   ]
  },
  {
   "cell_type": "markdown",
   "id": "0d887651",
   "metadata": {
    "papermill": {
     "duration": 0.01422,
     "end_time": "2023-07-16T18:02:29.156950",
     "exception": false,
     "start_time": "2023-07-16T18:02:29.142730",
     "status": "completed"
    },
    "tags": []
   },
   "source": [
    "Picture yourself in a library, surrounded by an abundance of books lining the shelves. Faced with the dilemma of choosing your next read, you notice a particular book that's generating a lot of buzz – people are borrowing it, talking about it, and describing it as a captivating and enjoyable experience.\n",
    "\n",
    "Intrigued by the widespread interest in this book, you decide to follow the crowd. The reasoning is simple: if so many readers are expressing their love for it, perhaps it's worth exploring.\n",
    "\n",
    "This is the essence of popularity-based book recommendations. The system suggests books that have gained popularity and are widely read among a large audience. It considers factors such as high demand, frequent borrowings, and positive reviews from numerous readers.\n",
    "\n",
    "The underlying concept is that if a book has garnered significant attention and acclaim from a diverse audience, there's a good chance it will be a rewarding read for you too. It's akin to joining a literary trend and delving into a book that has captivated the interest and enjoyment of many others."
   ]
  },
  {
   "cell_type": "markdown",
   "id": "50cb01d6",
   "metadata": {
    "papermill": {
     "duration": 0.014216,
     "end_time": "2023-07-16T18:02:29.185541",
     "exception": false,
     "start_time": "2023-07-16T18:02:29.171325",
     "status": "completed"
    },
    "tags": []
   },
   "source": [
    "We will present a compilation of the **top 50 books determined by their average ratings**. Nonetheless, it's crucial to acknowledge that certain books might have acquired high ratings with only a limited number of votes, potentially not truly reflecting their overall quality. To mitigate this, our selection will exclusively encompass books that have amassed a minimum of **250 reviews**. This criterion aims to enhance the reliability and representativeness of the ratings, offering a more accurate depiction of the book's popularity and quality."
   ]
  },
  {
   "cell_type": "code",
   "execution_count": 54,
   "id": "40fb1e00",
   "metadata": {
    "execution": {
     "iopub.execute_input": "2023-07-16T18:02:29.216522Z",
     "iopub.status.busy": "2023-07-16T18:02:29.215719Z",
     "iopub.status.idle": "2023-07-16T18:02:30.028974Z",
     "shell.execute_reply": "2023-07-16T18:02:30.027803Z"
    },
    "papermill": {
     "duration": 0.830767,
     "end_time": "2023-07-16T18:02:30.030820",
     "exception": false,
     "start_time": "2023-07-16T18:02:29.200053",
     "status": "completed"
    },
    "tags": []
   },
   "outputs": [
    {
     "name": "stdout",
     "output_type": "stream",
     "text": [
      "before merged\n",
      "ratings shape: (1149780, 3)\n",
      "Books shape: (271360, 8)\n",
      "after merged: (1031136, 10)\n"
     ]
    }
   ],
   "source": [
    "#we are going to used only Books and rating dataset for our popularity\n",
    "#Lets merged it two datasets \n",
    "print(\"before merged\")\n",
    "print(\"ratings shape:\",ratings.shape)\n",
    "print(\"Books shape:\",books.shape)\n",
    "books_ratings=ratings.merge(books,on='ISBN')\n",
    "print(\"after merged:\",books_ratings.shape)"
   ]
  },
  {
   "cell_type": "markdown",
   "id": "ced4918c",
   "metadata": {
    "execution": {
     "iopub.execute_input": "2023-07-14T12:29:53.772546Z",
     "iopub.status.busy": "2023-07-14T12:29:53.772106Z",
     "iopub.status.idle": "2023-07-14T12:29:53.777672Z",
     "shell.execute_reply": "2023-07-14T12:29:53.776354Z",
     "shell.execute_reply.started": "2023-07-14T12:29:53.772514Z"
    },
    "papermill": {
     "duration": 0.014858,
     "end_time": "2023-07-16T18:02:30.061093",
     "exception": false,
     "start_time": "2023-07-16T18:02:30.046235",
     "status": "completed"
    },
    "tags": []
   },
   "source": [
    "#### Now, lets calculate average rating of each books and take only those books where total ratings >250(Assumption) ####"
   ]
  },
  {
   "cell_type": "markdown",
   "id": "3ffdcfca",
   "metadata": {
    "papermill": {
     "duration": 0.014731,
     "end_time": "2023-07-16T18:02:30.090730",
     "exception": false,
     "start_time": "2023-07-16T18:02:30.075999",
     "status": "completed"
    },
    "tags": []
   },
   "source": [
    "Below code takes a dataframe with book ratings, groups it by book titles, counts the number of ratings for each book, and creates a new dataframe with the book titles and their respective counts of ratings. It then renames the column representing the count of ratings to 'num_ratings' for clarity."
   ]
  },
  {
   "cell_type": "code",
   "execution_count": 55,
   "id": "3df68011",
   "metadata": {
    "execution": {
     "iopub.execute_input": "2023-07-16T18:02:30.151382Z",
     "iopub.status.busy": "2023-07-16T18:02:30.151090Z",
     "iopub.status.idle": "2023-07-16T18:02:31.737087Z",
     "shell.execute_reply": "2023-07-16T18:02:31.735832Z"
    },
    "papermill": {
     "duration": 1.604366,
     "end_time": "2023-07-16T18:02:31.739578",
     "exception": false,
     "start_time": "2023-07-16T18:02:30.135212",
     "status": "completed"
    },
    "tags": []
   },
   "outputs": [],
   "source": [
    "# Group the 'books_ratings' dataframe by the 'Book-Title' column and count the number of occurrences of 'Book-Rating'\n",
    "num_rating_df = books_ratings.groupby('Book-Title').count()['Book-Rating'].reset_index()\n",
    "\n",
    "# Rename the 'Book-Rating' column to 'num_ratings' in the 'num_rating_df' dataframe\n",
    "num_rating_df.rename(columns={'Book-Rating':'num_ratings'}, inplace=True)"
   ]
  },
  {
   "cell_type": "code",
   "execution_count": 56,
   "id": "6e81ee2d",
   "metadata": {
    "execution": {
     "iopub.execute_input": "2023-07-16T18:02:31.771429Z",
     "iopub.status.busy": "2023-07-16T18:02:31.771124Z",
     "iopub.status.idle": "2023-07-16T18:02:31.779043Z",
     "shell.execute_reply": "2023-07-16T18:02:31.778242Z"
    },
    "papermill": {
     "duration": 0.025828,
     "end_time": "2023-07-16T18:02:31.781021",
     "exception": false,
     "start_time": "2023-07-16T18:02:31.755193",
     "status": "completed"
    },
    "tags": []
   },
   "outputs": [
    {
     "data": {
      "text/html": [
       "<div>\n",
       "<style scoped>\n",
       "    .dataframe tbody tr th:only-of-type {\n",
       "        vertical-align: middle;\n",
       "    }\n",
       "\n",
       "    .dataframe tbody tr th {\n",
       "        vertical-align: top;\n",
       "    }\n",
       "\n",
       "    .dataframe thead th {\n",
       "        text-align: right;\n",
       "    }\n",
       "</style>\n",
       "<table border=\"1\" class=\"dataframe\">\n",
       "  <thead>\n",
       "    <tr style=\"text-align: right;\">\n",
       "      <th></th>\n",
       "      <th>Book-Title</th>\n",
       "      <th>num_ratings</th>\n",
       "    </tr>\n",
       "  </thead>\n",
       "  <tbody>\n",
       "    <tr>\n",
       "      <th>0</th>\n",
       "      <td>A Light in the Storm: The Civil War Diary of ...</td>\n",
       "      <td>4</td>\n",
       "    </tr>\n",
       "    <tr>\n",
       "      <th>1</th>\n",
       "      <td>Always Have Popsicles</td>\n",
       "      <td>1</td>\n",
       "    </tr>\n",
       "  </tbody>\n",
       "</table>\n",
       "</div>"
      ],
      "text/plain": [
       "                                          Book-Title  num_ratings\n",
       "0   A Light in the Storm: The Civil War Diary of ...            4\n",
       "1                              Always Have Popsicles            1"
      ]
     },
     "execution_count": 56,
     "metadata": {},
     "output_type": "execute_result"
    }
   ],
   "source": [
    "num_rating_df.head(2)"
   ]
  },
  {
   "cell_type": "markdown",
   "id": "33eb7ec9",
   "metadata": {
    "papermill": {
     "duration": 0.01498,
     "end_time": "2023-07-16T18:02:31.811940",
     "exception": false,
     "start_time": "2023-07-16T18:02:31.796960",
     "status": "completed"
    },
    "tags": []
   },
   "source": [
    "#### Now we have number of rating for each book,Lets figure out average rating for each book ####"
   ]
  },
  {
   "cell_type": "markdown",
   "id": "8dfbe957",
   "metadata": {
    "papermill": {
     "duration": 0.014678,
     "end_time": "2023-07-16T18:02:31.841612",
     "exception": false,
     "start_time": "2023-07-16T18:02:31.826934",
     "status": "completed"
    },
    "tags": []
   },
   "source": [
    "Below code takes a dataframe with book ratings and names, groups it by book titles, calculates the average rating for each book, and creates a new dataframe with the book titles and their respective average ratings. It then renames the column representing the average rating to 'avg_rating' for clarity."
   ]
  },
  {
   "cell_type": "code",
   "execution_count": 57,
   "id": "0854e118",
   "metadata": {
    "execution": {
     "iopub.execute_input": "2023-07-16T18:02:31.873522Z",
     "iopub.status.busy": "2023-07-16T18:02:31.873057Z",
     "iopub.status.idle": "2023-07-16T18:02:32.361331Z",
     "shell.execute_reply": "2023-07-16T18:02:32.360515Z"
    },
    "papermill": {
     "duration": 0.506164,
     "end_time": "2023-07-16T18:02:32.363058",
     "exception": false,
     "start_time": "2023-07-16T18:02:31.856894",
     "status": "completed"
    },
    "tags": []
   },
   "outputs": [
    {
     "data": {
      "text/html": [
       "<div>\n",
       "<style scoped>\n",
       "    .dataframe tbody tr th:only-of-type {\n",
       "        vertical-align: middle;\n",
       "    }\n",
       "\n",
       "    .dataframe tbody tr th {\n",
       "        vertical-align: top;\n",
       "    }\n",
       "\n",
       "    .dataframe thead th {\n",
       "        text-align: right;\n",
       "    }\n",
       "</style>\n",
       "<table border=\"1\" class=\"dataframe\">\n",
       "  <thead>\n",
       "    <tr style=\"text-align: right;\">\n",
       "      <th></th>\n",
       "      <th>Book-Title</th>\n",
       "      <th>avg_rating</th>\n",
       "    </tr>\n",
       "  </thead>\n",
       "  <tbody>\n",
       "    <tr>\n",
       "      <th>0</th>\n",
       "      <td>A Light in the Storm: The Civil War Diary of ...</td>\n",
       "      <td>2.25</td>\n",
       "    </tr>\n",
       "    <tr>\n",
       "      <th>1</th>\n",
       "      <td>Always Have Popsicles</td>\n",
       "      <td>0.00</td>\n",
       "    </tr>\n",
       "  </tbody>\n",
       "</table>\n",
       "</div>"
      ],
      "text/plain": [
       "                                          Book-Title  avg_rating\n",
       "0   A Light in the Storm: The Civil War Diary of ...        2.25\n",
       "1                              Always Have Popsicles        0.00"
      ]
     },
     "execution_count": 57,
     "metadata": {},
     "output_type": "execute_result"
    }
   ],
   "source": [
    "# Group the 'ratings_with_name' dataframe by the 'Book-Title' column and calculate the mean of 'Book-Rating'\n",
    "avg_rating_df = books_ratings.groupby('Book-Title').mean()['Book-Rating'].reset_index()\n",
    "# Rename the 'Book-Rating' column to 'avg_rating' in the 'avg_rating_df' dataframe\n",
    "avg_rating_df.rename(columns={'Book-Rating':'avg_rating'}, inplace=True)\n",
    "\n",
    "avg_rating_df.head(2)"
   ]
  },
  {
   "cell_type": "markdown",
   "id": "1911cd24",
   "metadata": {
    "papermill": {
     "duration": 0.015209,
     "end_time": "2023-07-16T18:02:32.395560",
     "exception": false,
     "start_time": "2023-07-16T18:02:32.380351",
     "status": "completed"
    },
    "tags": []
   },
   "source": [
    "#### Now,Lets merge both the dataframe ***num_rating_df*** and ***avg_rating_df*** and filter only those books where total ratings >250 ####"
   ]
  },
  {
   "cell_type": "code",
   "execution_count": 58,
   "id": "fd9abde6",
   "metadata": {
    "execution": {
     "iopub.execute_input": "2023-07-16T18:02:32.427664Z",
     "iopub.status.busy": "2023-07-16T18:02:32.427159Z",
     "iopub.status.idle": "2023-07-16T18:02:32.612224Z",
     "shell.execute_reply": "2023-07-16T18:02:32.611185Z"
    },
    "papermill": {
     "duration": 0.203223,
     "end_time": "2023-07-16T18:02:32.614030",
     "exception": false,
     "start_time": "2023-07-16T18:02:32.410807",
     "status": "completed"
    },
    "tags": []
   },
   "outputs": [
    {
     "data": {
      "text/html": [
       "<div>\n",
       "<style scoped>\n",
       "    .dataframe tbody tr th:only-of-type {\n",
       "        vertical-align: middle;\n",
       "    }\n",
       "\n",
       "    .dataframe tbody tr th {\n",
       "        vertical-align: top;\n",
       "    }\n",
       "\n",
       "    .dataframe thead th {\n",
       "        text-align: right;\n",
       "    }\n",
       "</style>\n",
       "<table border=\"1\" class=\"dataframe\">\n",
       "  <thead>\n",
       "    <tr style=\"text-align: right;\">\n",
       "      <th></th>\n",
       "      <th>Book-Title</th>\n",
       "      <th>num_ratings</th>\n",
       "      <th>avg_rating</th>\n",
       "    </tr>\n",
       "  </thead>\n",
       "  <tbody>\n",
       "    <tr>\n",
       "      <th>0</th>\n",
       "      <td>A Light in the Storm: The Civil War Diary of ...</td>\n",
       "      <td>4</td>\n",
       "      <td>2.25</td>\n",
       "    </tr>\n",
       "    <tr>\n",
       "      <th>1</th>\n",
       "      <td>Always Have Popsicles</td>\n",
       "      <td>1</td>\n",
       "      <td>0.00</td>\n",
       "    </tr>\n",
       "  </tbody>\n",
       "</table>\n",
       "</div>"
      ],
      "text/plain": [
       "                                          Book-Title  num_ratings  avg_rating\n",
       "0   A Light in the Storm: The Civil War Diary of ...            4        2.25\n",
       "1                              Always Have Popsicles            1        0.00"
      ]
     },
     "execution_count": 58,
     "metadata": {},
     "output_type": "execute_result"
    }
   ],
   "source": [
    "# Merge the 'num_rating_df' and 'avg_rating_df' DataFrames on the 'Book-Title' column\n",
    "popular_df = num_rating_df.merge(avg_rating_df, on='Book-Title')\n",
    "popular_df.head(2)"
   ]
  },
  {
   "cell_type": "markdown",
   "id": "ae10e833",
   "metadata": {
    "papermill": {
     "duration": 0.015197,
     "end_time": "2023-07-16T18:02:32.645252",
     "exception": false,
     "start_time": "2023-07-16T18:02:32.630055",
     "status": "completed"
    },
    "tags": []
   },
   "source": [
    "#### Now as we can see we have number of ratings and average ratings w.r.to each movie \n",
    "#### We want to keep only those movies which has total rating >250 ####"
   ]
  },
  {
   "cell_type": "markdown",
   "id": "5e3c1af9",
   "metadata": {
    "papermill": {
     "duration": 0.015117,
     "end_time": "2023-07-16T18:02:32.675632",
     "exception": false,
     "start_time": "2023-07-16T18:02:32.660515",
     "status": "completed"
    },
    "tags": []
   },
   "source": [
    "Below code filters the 'popular_df' dataframe to include only books with a minimum of 250 ratings, sorts them based on their average ratings in descending order, and finally selects the top 50 books with the highest average ratings. This helps us to  identify the most popular books with high ratings among those that have received a significant number of ratings."
   ]
  },
  {
   "cell_type": "code",
   "execution_count": 59,
   "id": "b7b8f398",
   "metadata": {
    "execution": {
     "iopub.execute_input": "2023-07-16T18:02:32.707624Z",
     "iopub.status.busy": "2023-07-16T18:02:32.707290Z",
     "iopub.status.idle": "2023-07-16T18:02:32.713180Z",
     "shell.execute_reply": "2023-07-16T18:02:32.712540Z"
    },
    "papermill": {
     "duration": 0.02392,
     "end_time": "2023-07-16T18:02:32.714820",
     "exception": false,
     "start_time": "2023-07-16T18:02:32.690900",
     "status": "completed"
    },
    "tags": []
   },
   "outputs": [],
   "source": [
    "# Filter and select the top 50 popular items with a minimum of 250 ratings, based on average rating\n",
    "popular_df = popular_df[popular_df['num_ratings'] >= 250].sort_values('avg_rating', ascending=False).head(50)"
   ]
  },
  {
   "cell_type": "code",
   "execution_count": 60,
   "id": "97627a30",
   "metadata": {
    "execution": {
     "iopub.execute_input": "2023-07-16T18:02:32.748233Z",
     "iopub.status.busy": "2023-07-16T18:02:32.747682Z",
     "iopub.status.idle": "2023-07-16T18:02:32.756583Z",
     "shell.execute_reply": "2023-07-16T18:02:32.755953Z"
    },
    "papermill": {
     "duration": 0.027155,
     "end_time": "2023-07-16T18:02:32.758201",
     "exception": false,
     "start_time": "2023-07-16T18:02:32.731046",
     "status": "completed"
    },
    "tags": []
   },
   "outputs": [
    {
     "data": {
      "text/html": [
       "<div>\n",
       "<style scoped>\n",
       "    .dataframe tbody tr th:only-of-type {\n",
       "        vertical-align: middle;\n",
       "    }\n",
       "\n",
       "    .dataframe tbody tr th {\n",
       "        vertical-align: top;\n",
       "    }\n",
       "\n",
       "    .dataframe thead th {\n",
       "        text-align: right;\n",
       "    }\n",
       "</style>\n",
       "<table border=\"1\" class=\"dataframe\">\n",
       "  <thead>\n",
       "    <tr style=\"text-align: right;\">\n",
       "      <th></th>\n",
       "      <th>Book-Title</th>\n",
       "      <th>num_ratings</th>\n",
       "      <th>avg_rating</th>\n",
       "    </tr>\n",
       "  </thead>\n",
       "  <tbody>\n",
       "    <tr>\n",
       "      <th>80434</th>\n",
       "      <td>Harry Potter and the Prisoner of Azkaban (Book 3)</td>\n",
       "      <td>428</td>\n",
       "      <td>5.852804</td>\n",
       "    </tr>\n",
       "    <tr>\n",
       "      <th>80422</th>\n",
       "      <td>Harry Potter and the Goblet of Fire (Book 4)</td>\n",
       "      <td>387</td>\n",
       "      <td>5.824289</td>\n",
       "    </tr>\n",
       "  </tbody>\n",
       "</table>\n",
       "</div>"
      ],
      "text/plain": [
       "                                              Book-Title  num_ratings  \\\n",
       "80434  Harry Potter and the Prisoner of Azkaban (Book 3)          428   \n",
       "80422       Harry Potter and the Goblet of Fire (Book 4)          387   \n",
       "\n",
       "       avg_rating  \n",
       "80434    5.852804  \n",
       "80422    5.824289  "
      ]
     },
     "execution_count": 60,
     "metadata": {},
     "output_type": "execute_result"
    }
   ],
   "source": [
    "popular_df.head(2)"
   ]
  },
  {
   "cell_type": "markdown",
   "id": "6ea3886b",
   "metadata": {
    "execution": {
     "iopub.execute_input": "2023-07-14T13:16:54.201878Z",
     "iopub.status.busy": "2023-07-14T13:16:54.201418Z",
     "iopub.status.idle": "2023-07-14T13:16:54.207767Z",
     "shell.execute_reply": "2023-07-14T13:16:54.206205Z",
     "shell.execute_reply.started": "2023-07-14T13:16:54.201840Z"
    },
    "papermill": {
     "duration": 0.015338,
     "end_time": "2023-07-16T18:02:32.789540",
     "exception": false,
     "start_time": "2023-07-16T18:02:32.774202",
     "status": "completed"
    },
    "tags": []
   },
   "source": [
    "### We have our top most 50 Popular books based on their average ratings. ###"
   ]
  },
  {
   "cell_type": "markdown",
   "id": "afde2a63",
   "metadata": {
    "execution": {
     "iopub.execute_input": "2023-07-14T18:26:20.126894Z",
     "iopub.status.busy": "2023-07-14T18:26:20.126421Z",
     "iopub.status.idle": "2023-07-14T18:26:20.135537Z",
     "shell.execute_reply": "2023-07-14T18:26:20.134358Z",
     "shell.execute_reply.started": "2023-07-14T18:26:20.126836Z"
    },
    "papermill": {
     "duration": 0.015132,
     "end_time": "2023-07-16T18:02:32.820118",
     "exception": false,
     "start_time": "2023-07-16T18:02:32.804986",
     "status": "completed"
    },
    "tags": []
   },
   "source": [
    "# Collaborative filtering"
   ]
  },
  {
   "cell_type": "markdown",
   "id": "8080ec42",
   "metadata": {
    "papermill": {
     "duration": 0.015353,
     "end_time": "2023-07-16T18:02:32.851107",
     "exception": false,
     "start_time": "2023-07-16T18:02:32.835754",
     "status": "completed"
    },
    "tags": []
   },
   "source": [
    "Collaborative filtering analyzes the preferences and behaviors of different users, identifies patterns, and makes recommendations based on similarities between users. Instead of relying solely on your individual preferences, collaborative filtering takes into account the preferences of other users who have similar tastes to improve the accuracy of its recommendations.\n",
    "\n",
    "Imagine you're at a bookstore and you're trying to decide which book to buy. The store owner suggests books based on what other customers with similar tastes have enjoyed.\n",
    "\n",
    "The store owner keeps track of what books people buy and likes to see if there are any patterns. They notice that customers who have liked similar books as you also tend to enjoy a specific book that you haven't read yet.\n",
    "\n",
    "Using this information, the store owner recommends that book to you because they think you'll probably like it too. They're using the collective knowledge of other people who have similar reading preferences to help you find books you might enjoy.\n",
    "\n",
    "It's like having a knowledgeable friend who knows what books you might like based on what other people with similar tastes have enjoyed. The store owner is using this \"wisdom of the crowd\" to make personalized recommendations just for you.\n",
    "\n",
    "collaborative filtering uses the \"wisdom of the crowd\" to suggest items (in this case, books) that you might like based on the preferences of similar users. It's like getting personalized recommendations from people who have similar reading interests to yours."
   ]
  },
  {
   "cell_type": "markdown",
   "id": "b36db01d",
   "metadata": {
    "papermill": {
     "duration": 0.015295,
     "end_time": "2023-07-16T18:02:32.882079",
     "exception": false,
     "start_time": "2023-07-16T18:02:32.866784",
     "status": "completed"
    },
    "tags": []
   },
   "source": [
    "To build a recommender system based on how users rated books, we have two datasets: one containing information about books and another containing user ratings. We will merge these datasets to create a new dataset.\n",
    "\n",
    "However, to focus on experienced readers, we will only consider users who have rated at least **200 books**. This ensures that we are taking into account the opinions of users who have a substantial history of reading and rating books.\n",
    "\n",
    "Additionally, we will only include books that have received a minimum of **50 ratings**. By doing so, we prioritize books that have been reviewed by a significant number of readers, indicating a higher level of popularity or attention.\n"
   ]
  },
  {
   "cell_type": "code",
   "execution_count": 61,
   "id": "7b38a8ca",
   "metadata": {
    "execution": {
     "iopub.execute_input": "2023-07-16T18:02:32.916445Z",
     "iopub.status.busy": "2023-07-16T18:02:32.915402Z",
     "iopub.status.idle": "2023-07-16T18:02:33.673395Z",
     "shell.execute_reply": "2023-07-16T18:02:33.672519Z"
    },
    "papermill": {
     "duration": 0.776996,
     "end_time": "2023-07-16T18:02:33.675208",
     "exception": false,
     "start_time": "2023-07-16T18:02:32.898212",
     "status": "completed"
    },
    "tags": []
   },
   "outputs": [
    {
     "name": "stdout",
     "output_type": "stream",
     "text": [
      "before merged\n",
      "ratings shape: (1149780, 3)\n",
      "Books shape: (271360, 8)\n",
      "after merged: (1031136, 10)\n"
     ]
    }
   ],
   "source": [
    "#Lets merged it two datasets \n",
    "print(\"before merged\")\n",
    "print(\"ratings shape:\",ratings.shape)\n",
    "print(\"Books shape:\",books.shape)\n",
    "books_ratings_collab=ratings.merge(books,on='ISBN')\n",
    "print(\"after merged:\",books_ratings_collab.shape)"
   ]
  },
  {
   "cell_type": "markdown",
   "id": "5cec57a3",
   "metadata": {
    "papermill": {
     "duration": 0.015889,
     "end_time": "2023-07-16T18:02:33.707292",
     "exception": false,
     "start_time": "2023-07-16T18:02:33.691403",
     "status": "completed"
    },
    "tags": []
   },
   "source": [
    "Now lets take only those user whoi had rate atleast 200 books"
   ]
  },
  {
   "cell_type": "code",
   "execution_count": 62,
   "id": "275de74f",
   "metadata": {
    "execution": {
     "iopub.execute_input": "2023-07-16T18:02:33.740770Z",
     "iopub.status.busy": "2023-07-16T18:02:33.740410Z",
     "iopub.status.idle": "2023-07-16T18:02:33.751742Z",
     "shell.execute_reply": "2023-07-16T18:02:33.750961Z"
    },
    "papermill": {
     "duration": 0.029896,
     "end_time": "2023-07-16T18:02:33.753207",
     "exception": false,
     "start_time": "2023-07-16T18:02:33.723311",
     "status": "completed"
    },
    "tags": []
   },
   "outputs": [
    {
     "data": {
      "text/html": [
       "<div>\n",
       "<style scoped>\n",
       "    .dataframe tbody tr th:only-of-type {\n",
       "        vertical-align: middle;\n",
       "    }\n",
       "\n",
       "    .dataframe tbody tr th {\n",
       "        vertical-align: top;\n",
       "    }\n",
       "\n",
       "    .dataframe thead th {\n",
       "        text-align: right;\n",
       "    }\n",
       "</style>\n",
       "<table border=\"1\" class=\"dataframe\">\n",
       "  <thead>\n",
       "    <tr style=\"text-align: right;\">\n",
       "      <th></th>\n",
       "      <th>User-ID</th>\n",
       "      <th>ISBN</th>\n",
       "      <th>Book-Rating</th>\n",
       "      <th>Book-Title</th>\n",
       "      <th>Book-Author</th>\n",
       "      <th>Year-Of-Publication</th>\n",
       "      <th>Publisher</th>\n",
       "      <th>Image-URL-S</th>\n",
       "      <th>Image-URL-M</th>\n",
       "      <th>Image-URL-L</th>\n",
       "    </tr>\n",
       "  </thead>\n",
       "  <tbody>\n",
       "    <tr>\n",
       "      <th>0</th>\n",
       "      <td>276725</td>\n",
       "      <td>034545104X</td>\n",
       "      <td>0</td>\n",
       "      <td>Flesh Tones: A Novel</td>\n",
       "      <td>M. J. Rose</td>\n",
       "      <td>2002</td>\n",
       "      <td>Ballantine Books</td>\n",
       "      <td>http://images.amazon.com/images/P/034545104X.0...</td>\n",
       "      <td>http://images.amazon.com/images/P/034545104X.0...</td>\n",
       "      <td>http://images.amazon.com/images/P/034545104X.0...</td>\n",
       "    </tr>\n",
       "    <tr>\n",
       "      <th>1</th>\n",
       "      <td>2313</td>\n",
       "      <td>034545104X</td>\n",
       "      <td>5</td>\n",
       "      <td>Flesh Tones: A Novel</td>\n",
       "      <td>M. J. Rose</td>\n",
       "      <td>2002</td>\n",
       "      <td>Ballantine Books</td>\n",
       "      <td>http://images.amazon.com/images/P/034545104X.0...</td>\n",
       "      <td>http://images.amazon.com/images/P/034545104X.0...</td>\n",
       "      <td>http://images.amazon.com/images/P/034545104X.0...</td>\n",
       "    </tr>\n",
       "  </tbody>\n",
       "</table>\n",
       "</div>"
      ],
      "text/plain": [
       "   User-ID        ISBN  Book-Rating            Book-Title Book-Author  \\\n",
       "0   276725  034545104X            0  Flesh Tones: A Novel  M. J. Rose   \n",
       "1     2313  034545104X            5  Flesh Tones: A Novel  M. J. Rose   \n",
       "\n",
       "  Year-Of-Publication         Publisher  \\\n",
       "0                2002  Ballantine Books   \n",
       "1                2002  Ballantine Books   \n",
       "\n",
       "                                         Image-URL-S  \\\n",
       "0  http://images.amazon.com/images/P/034545104X.0...   \n",
       "1  http://images.amazon.com/images/P/034545104X.0...   \n",
       "\n",
       "                                         Image-URL-M  \\\n",
       "0  http://images.amazon.com/images/P/034545104X.0...   \n",
       "1  http://images.amazon.com/images/P/034545104X.0...   \n",
       "\n",
       "                                         Image-URL-L  \n",
       "0  http://images.amazon.com/images/P/034545104X.0...  \n",
       "1  http://images.amazon.com/images/P/034545104X.0...  "
      ]
     },
     "execution_count": 62,
     "metadata": {},
     "output_type": "execute_result"
    }
   ],
   "source": [
    "books_ratings_collab.head(2)"
   ]
  },
  {
   "cell_type": "markdown",
   "id": "69b08fa1",
   "metadata": {
    "execution": {
     "iopub.execute_input": "2023-07-14T18:01:35.584351Z",
     "iopub.status.busy": "2023-07-14T18:01:35.583885Z",
     "iopub.status.idle": "2023-07-14T18:01:35.594410Z",
     "shell.execute_reply": "2023-07-14T18:01:35.592940Z",
     "shell.execute_reply.started": "2023-07-14T18:01:35.584297Z"
    },
    "papermill": {
     "duration": 0.01565,
     "end_time": "2023-07-16T18:02:33.784866",
     "exception": false,
     "start_time": "2023-07-16T18:02:33.769216",
     "status": "completed"
    },
    "tags": []
   },
   "source": [
    "Now we will keep only those users who have rated minimum 200 reviews for a book"
   ]
  },
  {
   "cell_type": "code",
   "execution_count": 63,
   "id": "36f4e576",
   "metadata": {
    "execution": {
     "iopub.execute_input": "2023-07-16T18:02:33.817774Z",
     "iopub.status.busy": "2023-07-16T18:02:33.817456Z",
     "iopub.status.idle": "2023-07-16T18:02:33.912760Z",
     "shell.execute_reply": "2023-07-16T18:02:33.911920Z"
    },
    "papermill": {
     "duration": 0.113844,
     "end_time": "2023-07-16T18:02:33.914384",
     "exception": false,
     "start_time": "2023-07-16T18:02:33.800540",
     "status": "completed"
    },
    "tags": []
   },
   "outputs": [
    {
     "data": {
      "text/plain": [
       "User-ID\n",
       "2          1\n",
       "8         17\n",
       "9          3\n",
       "10         1\n",
       "12         1\n",
       "          ..\n",
       "278846     1\n",
       "278849     4\n",
       "278851    23\n",
       "278852     1\n",
       "278854     8\n",
       "Name: Book-Title, Length: 92106, dtype: int64"
      ]
     },
     "execution_count": 63,
     "metadata": {},
     "output_type": "execute_result"
    }
   ],
   "source": [
    "books_ratings_collab.groupby('User-ID')['Book-Title'].count()"
   ]
  },
  {
   "cell_type": "markdown",
   "id": "997b2273",
   "metadata": {
    "execution": {
     "iopub.execute_input": "2023-07-14T17:46:34.715751Z",
     "iopub.status.busy": "2023-07-14T17:46:34.715297Z",
     "iopub.status.idle": "2023-07-14T17:46:34.724291Z",
     "shell.execute_reply": "2023-07-14T17:46:34.722421Z",
     "shell.execute_reply.started": "2023-07-14T17:46:34.715718Z"
    },
    "papermill": {
     "duration": 0.015979,
     "end_time": "2023-07-16T18:02:33.946973",
     "exception": false,
     "start_time": "2023-07-16T18:02:33.930994",
     "status": "completed"
    },
    "tags": []
   },
   "source": [
    "#### We have total 92106 users who have rated the books,Lets find out how many of them rated at least 200 books ####"
   ]
  },
  {
   "cell_type": "markdown",
   "id": "392d96f8",
   "metadata": {
    "papermill": {
     "duration": 0.015715,
     "end_time": "2023-07-16T18:02:33.978736",
     "exception": false,
     "start_time": "2023-07-16T18:02:33.963021",
     "status": "completed"
    },
    "tags": []
   },
   "source": [
    "Lets find out users who have rated more than 200 books"
   ]
  },
  {
   "cell_type": "code",
   "execution_count": 64,
   "id": "c4c33aaf",
   "metadata": {
    "execution": {
     "iopub.execute_input": "2023-07-16T18:02:34.012949Z",
     "iopub.status.busy": "2023-07-16T18:02:34.012598Z",
     "iopub.status.idle": "2023-07-16T18:02:35.225055Z",
     "shell.execute_reply": "2023-07-16T18:02:35.224175Z"
    },
    "papermill": {
     "duration": 1.232102,
     "end_time": "2023-07-16T18:02:35.227148",
     "exception": false,
     "start_time": "2023-07-16T18:02:33.995046",
     "status": "completed"
    },
    "tags": []
   },
   "outputs": [],
   "source": [
    "# Group the 'ratings_with_name' DataFrame by 'User-ID' and count the occurrences of 'Book-Rating' for each user\n",
    "# The result is a Series with the 'User-ID' as the index and the count of ratings as the values\n",
    "user_ratings_count = books_ratings_collab.groupby('User-ID').count()['Book-Rating']\n",
    "\n",
    "# Create a boolean condition by comparing each count with 200, resulting in a Series of True/False values\n",
    "# True indicates that the user has rated more than 200 books, while False indicates they haven't\n",
    "is_experienced_reader = user_ratings_count > 200\n",
    "\n",
    "# Filter the 'user_ratings_count' Series by the True values, resulting in only the indices (User-IDs) of users who have rated more than 200 books\n",
    "experienced_readers = user_ratings_count[is_experienced_reader].index\n",
    "\n"
   ]
  },
  {
   "cell_type": "code",
   "execution_count": 65,
   "id": "351e365e",
   "metadata": {
    "execution": {
     "iopub.execute_input": "2023-07-16T18:02:35.260404Z",
     "iopub.status.busy": "2023-07-16T18:02:35.260105Z",
     "iopub.status.idle": "2023-07-16T18:02:35.563126Z",
     "shell.execute_reply": "2023-07-16T18:02:35.562036Z"
    },
    "papermill": {
     "duration": 0.321607,
     "end_time": "2023-07-16T18:02:35.565059",
     "exception": false,
     "start_time": "2023-07-16T18:02:35.243452",
     "status": "completed"
    },
    "tags": []
   },
   "outputs": [
    {
     "data": {
      "text/plain": [
       "(474007, 10)"
      ]
     },
     "execution_count": 65,
     "metadata": {},
     "output_type": "execute_result"
    }
   ],
   "source": [
    "# Filter the 'ratings_with_name' DataFrame to include only ratings from experienced readers\n",
    "filtered_rating = books_ratings_collab[books_ratings_collab['User-ID'].isin(experienced_readers)]\n",
    "filtered_rating.shape"
   ]
  },
  {
   "cell_type": "markdown",
   "id": "6584fa42",
   "metadata": {
    "papermill": {
     "duration": 0.015802,
     "end_time": "2023-07-16T18:02:35.597369",
     "exception": false,
     "start_time": "2023-07-16T18:02:35.581567",
     "status": "completed"
    },
    "tags": []
   },
   "source": [
    "#### We have found a large group of 474,007 users who are avid readers and have rated at least 200 books in our dataset"
   ]
  },
  {
   "cell_type": "markdown",
   "id": "ca0007de",
   "metadata": {
    "papermill": {
     "duration": 0.015598,
     "end_time": "2023-07-16T18:02:35.628886",
     "exception": false,
     "start_time": "2023-07-16T18:02:35.613288",
     "status": "completed"
    },
    "tags": []
   },
   "source": [
    "Now lets include books that have received a minimum of 50 ratings. "
   ]
  },
  {
   "cell_type": "code",
   "execution_count": 66,
   "id": "1cf27b81",
   "metadata": {
    "execution": {
     "iopub.execute_input": "2023-07-16T18:02:35.661938Z",
     "iopub.status.busy": "2023-07-16T18:02:35.661594Z",
     "iopub.status.idle": "2023-07-16T18:02:36.445556Z",
     "shell.execute_reply": "2023-07-16T18:02:36.444684Z"
    },
    "papermill": {
     "duration": 0.803128,
     "end_time": "2023-07-16T18:02:36.447756",
     "exception": false,
     "start_time": "2023-07-16T18:02:35.644628",
     "status": "completed"
    },
    "tags": []
   },
   "outputs": [],
   "source": [
    "# Group the 'filtered_rating' DataFrame by 'Book-Title' and count the occurrences of 'Book-Rating' for each book\n",
    "# The result is a Series with the 'Book-Title' as the index and the count of ratings as the values\n",
    "book_ratings_count = filtered_rating.groupby('Book-Title').count()['Book-Rating']\n",
    "\n",
    "# Create a boolean condition by comparing each count with 50, resulting in a Series of True/False values\n",
    "# True indicates that the book has received at least 50 ratings, while False indicates it hasn't\n",
    "is_popular_book = book_ratings_count >= 50\n",
    "\n",
    "# Filter the 'book_ratings_count' Series by the True values, resulting in only the indices (Book-Titles) of popular books\n",
    "popular_books = book_ratings_count[is_popular_book].index\n"
   ]
  },
  {
   "cell_type": "code",
   "execution_count": 67,
   "id": "a1d77a2d",
   "metadata": {
    "execution": {
     "iopub.execute_input": "2023-07-16T18:02:36.481546Z",
     "iopub.status.busy": "2023-07-16T18:02:36.481273Z",
     "iopub.status.idle": "2023-07-16T18:02:36.526511Z",
     "shell.execute_reply": "2023-07-16T18:02:36.525748Z"
    },
    "papermill": {
     "duration": 0.06427,
     "end_time": "2023-07-16T18:02:36.528487",
     "exception": false,
     "start_time": "2023-07-16T18:02:36.464217",
     "status": "completed"
    },
    "tags": []
   },
   "outputs": [],
   "source": [
    "# Filter the 'filtered_rating' DataFrame to include only ratings for popular books\n",
    "final_ratings = filtered_rating[filtered_rating['Book-Title'].isin(popular_books)]\n"
   ]
  },
  {
   "cell_type": "markdown",
   "id": "d9ed0161",
   "metadata": {
    "execution": {
     "iopub.execute_input": "2023-07-14T18:52:59.099262Z",
     "iopub.status.busy": "2023-07-14T18:52:59.098732Z",
     "iopub.status.idle": "2023-07-14T18:52:59.107683Z",
     "shell.execute_reply": "2023-07-14T18:52:59.106077Z",
     "shell.execute_reply.started": "2023-07-14T18:52:59.099222Z"
    },
    "papermill": {
     "duration": 0.016128,
     "end_time": "2023-07-16T18:02:36.561007",
     "exception": false,
     "start_time": "2023-07-16T18:02:36.544879",
     "status": "completed"
    },
    "tags": []
   },
   "source": [
    "Now we have experience reader as well as list of books with sufficient number of ratings per each books."
   ]
  },
  {
   "cell_type": "markdown",
   "id": "972ca9be",
   "metadata": {
    "papermill": {
     "duration": 0.015603,
     "end_time": "2023-07-16T18:02:36.592514",
     "exception": false,
     "start_time": "2023-07-16T18:02:36.576911",
     "status": "completed"
    },
    "tags": []
   },
   "source": [
    "Lets create a table where each row represents a specific book, and each column represents a user. The cells of the table contain the ratings given by the users for the corresponding books. This way, all the ratings for each book and user are neatly organized.\n",
    "This could be helpful because it allows us to see the ratings given by each user for each book in a structured format. We can easily look up a specific book and see how different users have rated it.\n",
    "\n",
    "Also,we can easily see how different users have rated books. By identifying users who have similar ratings for certain books, we can find people who have similar preferences. For example, if User A and User B have rated many books similarly, it suggests that they have similar tastes in books."
   ]
  },
  {
   "cell_type": "code",
   "execution_count": 68,
   "id": "1c5dabe3",
   "metadata": {
    "execution": {
     "iopub.execute_input": "2023-07-16T18:02:36.625782Z",
     "iopub.status.busy": "2023-07-16T18:02:36.625459Z",
     "iopub.status.idle": "2023-07-16T18:02:36.662278Z",
     "shell.execute_reply": "2023-07-16T18:02:36.661601Z"
    },
    "papermill": {
     "duration": 0.055802,
     "end_time": "2023-07-16T18:02:36.664207",
     "exception": false,
     "start_time": "2023-07-16T18:02:36.608405",
     "status": "completed"
    },
    "tags": []
   },
   "outputs": [],
   "source": [
    "# Create a pivot table to organize book ratings data\n",
    "# The pivot table will have books as rows, users as columns, and ratings as the cell values\n",
    "\n",
    "# Group the 'final_ratings' DataFrame by 'Book-Title' and 'User-ID'\n",
    "# Calculate the average rating for each combination of book and user\n",
    "# The resulting table will have books as rows and users as columns\n",
    "\n",
    "book_ratings_pivot = final_ratings.pivot_table(index='Book-Title', columns='User-ID', values='Book-Rating')\n"
   ]
  },
  {
   "cell_type": "code",
   "execution_count": 69,
   "id": "c519c0cf",
   "metadata": {
    "execution": {
     "iopub.execute_input": "2023-07-16T18:02:36.697754Z",
     "iopub.status.busy": "2023-07-16T18:02:36.697466Z",
     "iopub.status.idle": "2023-07-16T18:02:36.701687Z",
     "shell.execute_reply": "2023-07-16T18:02:36.701144Z"
    },
    "papermill": {
     "duration": 0.02217,
     "end_time": "2023-07-16T18:02:36.703015",
     "exception": false,
     "start_time": "2023-07-16T18:02:36.680845",
     "status": "completed"
    },
    "tags": []
   },
   "outputs": [
    {
     "data": {
      "text/plain": [
       "(706, 810)"
      ]
     },
     "execution_count": 69,
     "metadata": {},
     "output_type": "execute_result"
    }
   ],
   "source": [
    "book_ratings_pivot.shape"
   ]
  },
  {
   "cell_type": "markdown",
   "id": "2f2c8f33",
   "metadata": {
    "papermill": {
     "duration": 0.015492,
     "end_time": "2023-07-16T18:02:36.734316",
     "exception": false,
     "start_time": "2023-07-16T18:02:36.718824",
     "status": "completed"
    },
    "tags": []
   },
   "source": [
    "we have total 706 books and the ratings given by 810 different users for these books."
   ]
  },
  {
   "cell_type": "code",
   "execution_count": 70,
   "id": "37bfec0e",
   "metadata": {
    "execution": {
     "iopub.execute_input": "2023-07-16T18:02:36.768196Z",
     "iopub.status.busy": "2023-07-16T18:02:36.767609Z",
     "iopub.status.idle": "2023-07-16T18:02:36.785401Z",
     "shell.execute_reply": "2023-07-16T18:02:36.784725Z"
    },
    "papermill": {
     "duration": 0.036727,
     "end_time": "2023-07-16T18:02:36.787115",
     "exception": false,
     "start_time": "2023-07-16T18:02:36.750388",
     "status": "completed"
    },
    "tags": []
   },
   "outputs": [
    {
     "data": {
      "text/html": [
       "<div>\n",
       "<style scoped>\n",
       "    .dataframe tbody tr th:only-of-type {\n",
       "        vertical-align: middle;\n",
       "    }\n",
       "\n",
       "    .dataframe tbody tr th {\n",
       "        vertical-align: top;\n",
       "    }\n",
       "\n",
       "    .dataframe thead th {\n",
       "        text-align: right;\n",
       "    }\n",
       "</style>\n",
       "<table border=\"1\" class=\"dataframe\">\n",
       "  <thead>\n",
       "    <tr style=\"text-align: right;\">\n",
       "      <th>User-ID</th>\n",
       "      <th>254</th>\n",
       "      <th>2276</th>\n",
       "      <th>2766</th>\n",
       "      <th>2977</th>\n",
       "      <th>3363</th>\n",
       "      <th>4017</th>\n",
       "      <th>4385</th>\n",
       "      <th>6251</th>\n",
       "      <th>6323</th>\n",
       "      <th>6543</th>\n",
       "      <th>...</th>\n",
       "      <th>271705</th>\n",
       "      <th>273979</th>\n",
       "      <th>274004</th>\n",
       "      <th>274061</th>\n",
       "      <th>274301</th>\n",
       "      <th>274308</th>\n",
       "      <th>275970</th>\n",
       "      <th>277427</th>\n",
       "      <th>277639</th>\n",
       "      <th>278418</th>\n",
       "    </tr>\n",
       "    <tr>\n",
       "      <th>Book-Title</th>\n",
       "      <th></th>\n",
       "      <th></th>\n",
       "      <th></th>\n",
       "      <th></th>\n",
       "      <th></th>\n",
       "      <th></th>\n",
       "      <th></th>\n",
       "      <th></th>\n",
       "      <th></th>\n",
       "      <th></th>\n",
       "      <th></th>\n",
       "      <th></th>\n",
       "      <th></th>\n",
       "      <th></th>\n",
       "      <th></th>\n",
       "      <th></th>\n",
       "      <th></th>\n",
       "      <th></th>\n",
       "      <th></th>\n",
       "      <th></th>\n",
       "      <th></th>\n",
       "    </tr>\n",
       "  </thead>\n",
       "  <tbody>\n",
       "    <tr>\n",
       "      <th>1984</th>\n",
       "      <td>9.0</td>\n",
       "      <td>NaN</td>\n",
       "      <td>NaN</td>\n",
       "      <td>NaN</td>\n",
       "      <td>NaN</td>\n",
       "      <td>NaN</td>\n",
       "      <td>NaN</td>\n",
       "      <td>NaN</td>\n",
       "      <td>NaN</td>\n",
       "      <td>NaN</td>\n",
       "      <td>...</td>\n",
       "      <td>10.0</td>\n",
       "      <td>NaN</td>\n",
       "      <td>NaN</td>\n",
       "      <td>NaN</td>\n",
       "      <td>NaN</td>\n",
       "      <td>NaN</td>\n",
       "      <td>0.0</td>\n",
       "      <td>NaN</td>\n",
       "      <td>NaN</td>\n",
       "      <td>NaN</td>\n",
       "    </tr>\n",
       "    <tr>\n",
       "      <th>1st to Die: A Novel</th>\n",
       "      <td>NaN</td>\n",
       "      <td>NaN</td>\n",
       "      <td>NaN</td>\n",
       "      <td>NaN</td>\n",
       "      <td>NaN</td>\n",
       "      <td>NaN</td>\n",
       "      <td>NaN</td>\n",
       "      <td>NaN</td>\n",
       "      <td>NaN</td>\n",
       "      <td>9.0</td>\n",
       "      <td>...</td>\n",
       "      <td>NaN</td>\n",
       "      <td>NaN</td>\n",
       "      <td>NaN</td>\n",
       "      <td>NaN</td>\n",
       "      <td>NaN</td>\n",
       "      <td>NaN</td>\n",
       "      <td>NaN</td>\n",
       "      <td>NaN</td>\n",
       "      <td>NaN</td>\n",
       "      <td>NaN</td>\n",
       "    </tr>\n",
       "  </tbody>\n",
       "</table>\n",
       "<p>2 rows × 810 columns</p>\n",
       "</div>"
      ],
      "text/plain": [
       "User-ID              254     2276    2766    2977    3363    4017    4385    \\\n",
       "Book-Title                                                                    \n",
       "1984                    9.0     NaN     NaN     NaN     NaN     NaN     NaN   \n",
       "1st to Die: A Novel     NaN     NaN     NaN     NaN     NaN     NaN     NaN   \n",
       "\n",
       "User-ID              6251    6323    6543    ...  271705  273979  274004  \\\n",
       "Book-Title                                   ...                           \n",
       "1984                    NaN     NaN     NaN  ...    10.0     NaN     NaN   \n",
       "1st to Die: A Novel     NaN     NaN     9.0  ...     NaN     NaN     NaN   \n",
       "\n",
       "User-ID              274061  274301  274308  275970  277427  277639  278418  \n",
       "Book-Title                                                                   \n",
       "1984                    NaN     NaN     NaN     0.0     NaN     NaN     NaN  \n",
       "1st to Die: A Novel     NaN     NaN     NaN     NaN     NaN     NaN     NaN  \n",
       "\n",
       "[2 rows x 810 columns]"
      ]
     },
     "execution_count": 70,
     "metadata": {},
     "output_type": "execute_result"
    }
   ],
   "source": [
    "book_ratings_pivot.head(2)"
   ]
  },
  {
   "cell_type": "markdown",
   "id": "e7c9cf27",
   "metadata": {
    "papermill": {
     "duration": 0.016246,
     "end_time": "2023-07-16T18:02:36.820098",
     "exception": false,
     "start_time": "2023-07-16T18:02:36.803852",
     "status": "completed"
    },
    "tags": []
   },
   "source": [
    "Lets fill the missing values with zeros, it helps us to ensure that every cell in the table has a value, even if it represents a lack of rating.<br>\n",
    "This can be useful for subsequent calculations and to maintain consistent data in the table."
   ]
  },
  {
   "cell_type": "code",
   "execution_count": 71,
   "id": "961c84c9",
   "metadata": {
    "execution": {
     "iopub.execute_input": "2023-07-16T18:02:36.854428Z",
     "iopub.status.busy": "2023-07-16T18:02:36.853930Z",
     "iopub.status.idle": "2023-07-16T18:02:36.860419Z",
     "shell.execute_reply": "2023-07-16T18:02:36.859713Z"
    },
    "papermill": {
     "duration": 0.025516,
     "end_time": "2023-07-16T18:02:36.862057",
     "exception": false,
     "start_time": "2023-07-16T18:02:36.836541",
     "status": "completed"
    },
    "tags": []
   },
   "outputs": [],
   "source": [
    "# Fill any missing values in the book_ratings_pivot table with zeros\n",
    "book_ratings_pivot.fillna(0, inplace=True)"
   ]
  },
  {
   "cell_type": "markdown",
   "id": "d7c5cdca",
   "metadata": {
    "papermill": {
     "duration": 0.01627,
     "end_time": "2023-07-16T18:02:36.894717",
     "exception": false,
     "start_time": "2023-07-16T18:02:36.878447",
     "status": "completed"
    },
    "tags": []
   },
   "source": [
    "Now lets apply  collaborative filtering techniques to make personalized recommendations based on similar user preferences."
   ]
  },
  {
   "cell_type": "markdown",
   "id": "d395d359",
   "metadata": {
    "papermill": {
     "duration": 0.016616,
     "end_time": "2023-07-16T18:02:36.928122",
     "exception": false,
     "start_time": "2023-07-16T18:02:36.911506",
     "status": "completed"
    },
    "tags": []
   },
   "source": [
    "Cosine similarity:\n",
    "https://www.kaggle.com/code/adityaghuse/movie-recommendation-beginner-friendly?cellId=59&cellIds=59&kernelSessionId=136797140"
   ]
  },
  {
   "cell_type": "code",
   "execution_count": 72,
   "id": "60ff6885",
   "metadata": {
    "execution": {
     "iopub.execute_input": "2023-07-16T18:02:36.962077Z",
     "iopub.status.busy": "2023-07-16T18:02:36.961754Z",
     "iopub.status.idle": "2023-07-16T18:02:37.913538Z",
     "shell.execute_reply": "2023-07-16T18:02:37.912609Z"
    },
    "papermill": {
     "duration": 0.971128,
     "end_time": "2023-07-16T18:02:37.915697",
     "exception": false,
     "start_time": "2023-07-16T18:02:36.944569",
     "status": "completed"
    },
    "tags": []
   },
   "outputs": [],
   "source": [
    "from sklearn.metrics.pairwise import cosine_similarity"
   ]
  },
  {
   "cell_type": "code",
   "execution_count": 73,
   "id": "6b604904",
   "metadata": {
    "execution": {
     "iopub.execute_input": "2023-07-16T18:02:37.952041Z",
     "iopub.status.busy": "2023-07-16T18:02:37.951680Z",
     "iopub.status.idle": "2023-07-16T18:02:37.968079Z",
     "shell.execute_reply": "2023-07-16T18:02:37.967304Z"
    },
    "papermill": {
     "duration": 0.035955,
     "end_time": "2023-07-16T18:02:37.969850",
     "exception": false,
     "start_time": "2023-07-16T18:02:37.933895",
     "status": "completed"
    },
    "tags": []
   },
   "outputs": [],
   "source": [
    "# calculates the similarity between vectors using a method called cosine similarity.\n",
    "#In simpler terms, it takes a vector (a mathematical representation of the movie) and compares it to other vectors representing different movies.\n",
    "#It calculates how similar these vectors are by measuring the cosine of the angle between them. \n",
    "#The resulting similarity values indicate how closely related the movies are based on their vector representations.\n",
    "#Essentially, it helps to determine how similar two books are by looking at their numerical representations and calculating a similarity score.\n",
    "similarity_scores = cosine_similarity(book_ratings_pivot)"
   ]
  },
  {
   "cell_type": "code",
   "execution_count": 74,
   "id": "16ead593",
   "metadata": {
    "execution": {
     "iopub.execute_input": "2023-07-16T18:02:38.014117Z",
     "iopub.status.busy": "2023-07-16T18:02:38.013805Z",
     "iopub.status.idle": "2023-07-16T18:02:38.019103Z",
     "shell.execute_reply": "2023-07-16T18:02:38.018320Z"
    },
    "papermill": {
     "duration": 0.029266,
     "end_time": "2023-07-16T18:02:38.020795",
     "exception": false,
     "start_time": "2023-07-16T18:02:37.991529",
     "status": "completed"
    },
    "tags": []
   },
   "outputs": [
    {
     "data": {
      "text/plain": [
       "array([[1.        , 0.10255025, 0.01220856, ..., 0.12110367, 0.07347567,\n",
       "        0.04316046],\n",
       "       [0.10255025, 1.        , 0.2364573 , ..., 0.07446129, 0.16773875,\n",
       "        0.14263397],\n",
       "       [0.01220856, 0.2364573 , 1.        , ..., 0.04558758, 0.04938579,\n",
       "        0.10796119],\n",
       "       ...,\n",
       "       [0.12110367, 0.07446129, 0.04558758, ..., 1.        , 0.07085128,\n",
       "        0.0196177 ],\n",
       "       [0.07347567, 0.16773875, 0.04938579, ..., 0.07085128, 1.        ,\n",
       "        0.10602962],\n",
       "       [0.04316046, 0.14263397, 0.10796119, ..., 0.0196177 , 0.10602962,\n",
       "        1.        ]])"
      ]
     },
     "execution_count": 74,
     "metadata": {},
     "output_type": "execute_result"
    }
   ],
   "source": [
    "similarity_scores"
   ]
  },
  {
   "cell_type": "markdown",
   "id": "21e67097",
   "metadata": {
    "papermill": {
     "duration": 0.021214,
     "end_time": "2023-07-16T18:02:38.063635",
     "exception": false,
     "start_time": "2023-07-16T18:02:38.042421",
     "status": "completed"
    },
    "tags": []
   },
   "source": [
    "Now,Lets create a recommend function that takes a book name, finds the index of the book in **book_ratings_pivot** table,<br>\n",
    "Identifies similar books based on their similarity scores, retrieves their details from the dataset, and returns a list of recommended books with their titles and author."
   ]
  },
  {
   "cell_type": "code",
   "execution_count": 75,
   "id": "26469321",
   "metadata": {
    "execution": {
     "iopub.execute_input": "2023-07-16T18:02:38.102252Z",
     "iopub.status.busy": "2023-07-16T18:02:38.101948Z",
     "iopub.status.idle": "2023-07-16T18:02:38.108784Z",
     "shell.execute_reply": "2023-07-16T18:02:38.107631Z"
    },
    "papermill": {
     "duration": 0.026129,
     "end_time": "2023-07-16T18:02:38.111018",
     "exception": false,
     "start_time": "2023-07-16T18:02:38.084889",
     "status": "completed"
    },
    "tags": []
   },
   "outputs": [],
   "source": [
    "def recommend(book_name):\n",
    "    # Find the index of the input book name in the pivot table\n",
    "    index = np.where(book_ratings_pivot.index == book_name)[0][0]\n",
    "\n",
    "    # Retrieve the similarity scores of the input book with other books,\n",
    "    # sort them in descending order, and select the top 4 similar items\n",
    "    similar_items = sorted(list(enumerate(similarity_scores[index])), key=lambda x: x[1], reverse=True)[1:10]\n",
    "\n",
    "    # Initialize an empty list to store recommended book information\n",
    "    data = []\n",
    "\n",
    "    # Iterate through each similar item\n",
    "    for i in similar_items:\n",
    "        item = []\n",
    "\n",
    "        # Fetch the relevant book details (title, author, image URL) from the 'books' dataset\n",
    "        temp_df = books[books['Book-Title'] == book_ratings_pivot.index[i[0]]]\n",
    "\n",
    "        # Append the book details to the 'item' list\n",
    "        item.extend(list(temp_df.drop_duplicates('Book-Title')['Book-Title'].values))\n",
    "        item.extend(list(temp_df.drop_duplicates('Book-Title')['Book-Author'].values))\n",
    "\n",
    "        # Append the 'item' list to the 'data' list\n",
    "        data.append(item)\n",
    "\n",
    "    # Return the 'data' list containing information about the recommended books\n",
    "    return data\n"
   ]
  },
  {
   "cell_type": "code",
   "execution_count": 76,
   "id": "09e19dc8",
   "metadata": {
    "execution": {
     "iopub.execute_input": "2023-07-16T18:02:38.146522Z",
     "iopub.status.busy": "2023-07-16T18:02:38.146224Z",
     "iopub.status.idle": "2023-07-16T18:02:38.217488Z",
     "shell.execute_reply": "2023-07-16T18:02:38.216714Z"
    },
    "papermill": {
     "duration": 0.090478,
     "end_time": "2023-07-16T18:02:38.219106",
     "exception": false,
     "start_time": "2023-07-16T18:02:38.128628",
     "status": "completed"
    },
    "tags": []
   },
   "outputs": [
    {
     "data": {
      "text/plain": [
       "[['Sea Glass: A Novel', 'Anita Shreve'],\n",
       " ['Blue Diary', 'Alice Hoffman'],\n",
       " [\"Where the Heart Is (Oprah's Book Club (Paperback))\", 'Billie Letts'],\n",
       " ['Saint Maybe', 'ANNE TYLER'],\n",
       " ['Here on Earth', 'Alice Hoffman'],\n",
       " ['The English Patient', 'Michael Ondaatje'],\n",
       " [\"The Plains of Passage (Earth's Children (Paperback))\", 'JEAN M. AUEL'],\n",
       " [\"Drowning Ruth (Oprah's Book Club)\", 'CHRISTINA SCHWARZ'],\n",
       " [\"She's Come Undone (Oprah's Book Club (Paperback))\", 'Wally Lamb']]"
      ]
     },
     "execution_count": 76,
     "metadata": {},
     "output_type": "execute_result"
    }
   ],
   "source": [
    "recommend('I Know This Much Is True')"
   ]
  },
  {
   "cell_type": "code",
   "execution_count": 77,
   "id": "fe057790",
   "metadata": {},
   "outputs": [],
   "source": [
    "from sklearn.model_selection import train_test_split\n",
    "\n",
    "# Split the data into training and testing sets (e.g., 80% for training and 20% for testing)\n",
    "train_data, test_data = train_test_split(final_ratings, test_size=0.2, random_state=42)\n"
   ]
  },
  {
   "cell_type": "code",
   "execution_count": 78,
   "id": "96e1e457",
   "metadata": {},
   "outputs": [],
   "source": [
    "train_matrix = train_data.pivot_table(index='Book-Title', columns='User-ID', values='Book-Rating').fillna(0)\n",
    "test_matrix = test_data.pivot_table(index='Book-Title', columns='User-ID', values='Book-Rating').fillna(0)\n"
   ]
  },
  {
   "cell_type": "code",
   "execution_count": 79,
   "id": "7940f43a",
   "metadata": {},
   "outputs": [],
   "source": [
    "train_similarity_scores = cosine_similarity(train_matrix)\n"
   ]
  },
  {
   "cell_type": "code",
   "execution_count": 80,
   "id": "0a9231f0",
   "metadata": {},
   "outputs": [],
   "source": [
    "def predict(ratings, similarity):\n",
    "    mean_user_rating = ratings.mean(axis=1)\n",
    "    ratings_diff = (ratings - mean_user_rating[:, np.newaxis])\n",
    "    pred = mean_user_rating[:, np.newaxis] + similarity.dot(ratings_diff) / np.array([np.abs(similarity).sum(axis=1)]).T\n",
    "    return pred\n",
    "\n",
    "test_prediction = predict(test_matrix.values, train_similarity_scores)\n"
   ]
  },
  {
   "cell_type": "code",
   "execution_count": 81,
   "id": "f9ba2895",
   "metadata": {},
   "outputs": [
    {
     "name": "stdout",
     "output_type": "stream",
     "text": [
      "RMSE Score: 7.770658429615624\n"
     ]
    }
   ],
   "source": [
    "from sklearn.metrics import mean_squared_error\n",
    "\n",
    "def rmse(prediction, ground_truth):\n",
    "    prediction = prediction[ground_truth.nonzero()].flatten()\n",
    "    ground_truth = ground_truth[ground_truth.nonzero()].flatten()\n",
    "    return np.sqrt(mean_squared_error(prediction, ground_truth))\n",
    "\n",
    "# Calculate RMSE for the test set\n",
    "rmse_score = rmse(test_prediction, test_matrix.values)\n",
    "print(\"RMSE Score:\", rmse_score)\n"
   ]
  },
  {
   "cell_type": "code",
   "execution_count": null,
   "id": "dc8f5477",
   "metadata": {},
   "outputs": [],
   "source": []
  }
 ],
 "metadata": {
  "kernelspec": {
   "display_name": "Python 3",
   "language": "python",
   "name": "python3"
  },
  "language_info": {
   "codemirror_mode": {
    "name": "ipython",
    "version": 3
   },
   "file_extension": ".py",
   "mimetype": "text/x-python",
   "name": "python",
   "nbconvert_exporter": "python",
   "pygments_lexer": "ipython3",
   "version": "3.7.9"
  },
  "papermill": {
   "default_parameters": {},
   "duration": 24.18662,
   "end_time": "2023-07-16T18:02:39.321366",
   "environment_variables": {},
   "exception": null,
   "input_path": "__notebook__.ipynb",
   "output_path": "__notebook__.ipynb",
   "parameters": {},
   "start_time": "2023-07-16T18:02:15.134746",
   "version": "2.4.0"
  }
 },
 "nbformat": 4,
 "nbformat_minor": 5
}
